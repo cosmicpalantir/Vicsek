{
 "cells": [
  {
   "cell_type": "code",
   "execution_count": null,
   "id": "ignored-failing",
   "metadata": {},
   "outputs": [],
   "source": [
    "import numpy as np\n",
    "import matplotlib.pyplot as plt\n",
    "from vicsek.model import VicsekModel\n",
    "from vicsek.scripts.evolve_ensemble import evolve_ensemble\n",
    "\n",
    "plt.rcParams[\"animation.html\"] = \"html5\""
   ]
  },
  {
   "cell_type": "code",
   "execution_count": null,
   "id": "outer-phase",
   "metadata": {},
   "outputs": [],
   "source": [
    "model = VicsekModel(\n",
    "    length=100,\n",
    "    density=0.01,\n",
    "    speed=0.5,\n",
    "    noise=0.5,\n",
    ")"
   ]
  },
  {
   "cell_type": "code",
   "execution_count": null,
   "id": "sudden-audience",
   "metadata": {},
   "outputs": [],
   "source": [
    "model.animate(steps=100)\n",
    "plt.show()"
   ]
  },
  {
   "cell_type": "code",
   "execution_count": null,
   "id": "obvious-pixel",
   "metadata": {},
   "outputs": [],
   "source": []
  },
  {
   "cell_type": "code",
   "execution_count": null,
   "id": "statewide-choir",
   "metadata": {},
   "outputs": [],
   "source": []
  }
 ],
 "metadata": {
  "kernelspec": {
   "display_name": "Python 3",
   "language": "python",
   "name": "python3"
  },
  "language_info": {
   "codemirror_mode": {
    "name": "ipython",
    "version": 3
   },
   "file_extension": ".py",
   "mimetype": "text/x-python",
   "name": "python",
   "nbconvert_exporter": "python",
   "pygments_lexer": "ipython3",
   "version": "3.8.8"
  }
 },
 "nbformat": 4,
 "nbformat_minor": 5
}
